{
 "cells": [
  {
   "cell_type": "code",
   "execution_count": 118,
   "metadata": {},
   "outputs": [],
   "source": [
    "import pandas as pd\n",
    "from nltk.stem import PorterStemmer\n",
    "from nltk.tokenize import sent_tokenize, word_tokenize\n",
    "from nltk.stem import WordNetLemmatizer\n",
    "import nltk\n",
    "from skimage import color, io\n",
    "\n",
    "from sklearn.model_selection import train_test_split\n",
    "import numpy\n",
    "import os\n",
    "from PIL import Image\n",
    "PHOTO_PREFIX=\"photo_\"\n",
    "BLANK=\"\"\n",
    "\n",
    "ps = PorterStemmer()\n",
    "wl = WordNetLemmatizer()"
   ]
  },
  {
   "cell_type": "code",
   "execution_count": 269,
   "metadata": {},
   "outputs": [
    {
     "name": "stdout",
     "output_type": "stream",
     "text": [
      "   tagId  photoId      tagName\n",
      "0    166      169          Bag\n",
      "1    167      169       Bucket\n",
      "2    308     1059          Pen\n",
      "3    309     1068   Home decor\n",
      "4    310     1068  Inspiration\n",
      "Unique list size 2229\n",
      "Complete list size 2229\n"
     ]
    }
   ],
   "source": [
    "picture_tags = pd.read_csv(\"./Metadata.csv\")\n",
    "picture_tags.columns = [\"tagId\",\"photoId\",\"tagName\"]\n",
    "print(picture_tags.head())\n",
    "#Normalize words to lower case\n",
    "picture_tags['tagName'] = picture_tags['tagName'].apply(lambda x:x.lower())\n",
    "#Stemming words\n",
    "picture_tags['tagName'] = picture_tags['tagName'].apply(lambda x:ps.stem(x))\n",
    "#Lemming words\n",
    "picture_tags['tagName'] = picture_tags['tagName'].apply(lambda x:wl.lemmatize(x))\n",
    "#Tokenize words - Not Required?\n",
    "# picture_tags['tagName'] = picture_tags['tagName'].apply(lambda x:(x[:5]))\n",
    "print(\"Unique list size %i\" % len(picture_tags['tagId'].unique()))\n",
    "print(\"Complete list size %i\" % len(picture_tags['tagId']))\n"
   ]
  },
  {
   "cell_type": "code",
   "execution_count": 270,
   "metadata": {},
   "outputs": [],
   "source": [
    "gphotoId= picture_tags.groupby(['photoId']).agg({\"tagName\":lambda x: \",\".join(x.tolist())}).reset_index()\n",
    "gtagsId= picture_tags.groupby(['photoId']).agg({\"tagId\":lambda x: \",\".join(str(v) for v in x.tolist())})\n"
   ]
  },
  {
   "cell_type": "code",
   "execution_count": 271,
   "metadata": {},
   "outputs": [
    {
     "data": {
      "text/html": [
       "<div>\n",
       "<style>\n",
       "    .dataframe thead tr:only-child th {\n",
       "        text-align: right;\n",
       "    }\n",
       "\n",
       "    .dataframe thead th {\n",
       "        text-align: left;\n",
       "    }\n",
       "\n",
       "    .dataframe tbody tr th {\n",
       "        vertical-align: top;\n",
       "    }\n",
       "</style>\n",
       "<table border=\"1\" class=\"dataframe\">\n",
       "  <thead>\n",
       "    <tr style=\"text-align: right;\">\n",
       "      <th></th>\n",
       "      <th>tagId</th>\n",
       "      <th>photoId</th>\n",
       "      <th>tagName</th>\n",
       "    </tr>\n",
       "  </thead>\n",
       "  <tbody>\n",
       "    <tr>\n",
       "      <th>0</th>\n",
       "      <td>166</td>\n",
       "      <td>169</td>\n",
       "      <td>bag</td>\n",
       "    </tr>\n",
       "    <tr>\n",
       "      <th>1</th>\n",
       "      <td>167</td>\n",
       "      <td>169</td>\n",
       "      <td>bucket</td>\n",
       "    </tr>\n",
       "    <tr>\n",
       "      <th>2</th>\n",
       "      <td>308</td>\n",
       "      <td>1059</td>\n",
       "      <td>pen</td>\n",
       "    </tr>\n",
       "    <tr>\n",
       "      <th>3</th>\n",
       "      <td>309</td>\n",
       "      <td>1068</td>\n",
       "      <td>home decor</td>\n",
       "    </tr>\n",
       "    <tr>\n",
       "      <th>4</th>\n",
       "      <td>310</td>\n",
       "      <td>1068</td>\n",
       "      <td>inspir</td>\n",
       "    </tr>\n",
       "  </tbody>\n",
       "</table>\n",
       "</div>"
      ],
      "text/plain": [
       "   tagId  photoId     tagName\n",
       "0    166      169         bag\n",
       "1    167      169      bucket\n",
       "2    308     1059         pen\n",
       "3    309     1068  home decor\n",
       "4    310     1068      inspir"
      ]
     },
     "execution_count": 271,
     "metadata": {},
     "output_type": "execute_result"
    }
   ],
   "source": [
    "picture_tags.head()\n",
    "\n"
   ]
  },
  {
   "cell_type": "markdown",
   "metadata": {},
   "source": []
  },
  {
   "cell_type": "code",
   "execution_count": 146,
   "metadata": {},
   "outputs": [],
   "source": [
    "def get_broken_refs(folder, data):\n",
    "    broken_refs_photos=[]\n",
    "    for index, row in data.iterrows():\n",
    "        if not os.path.exists(os.path.join(folder, str(row['photoId'])+\".jpg\")):\n",
    "            broken_refs_photos.append(row['photoId'])\n",
    "    return broken_refs_photos\n",
    "def rename_images(folder):\n",
    "    files = os.listdir(folder)\n",
    "    for f in files:\n",
    "        f_new = f.lower().replace(PHOTO_PREFIX, BLANK)\n",
    "        if f_new != \"\" and os.path.isfile(os.path.join(folder, f_new)):\n",
    "            f_new = f_new.split(\".\")[0]+\".jpg\"\n",
    "        else:\n",
    "            continue\n",
    "        if f_new:\n",
    "            os.rename(os.path.join(folder, f), os.path.join(folder, f_new))\n",
    "    print(\"Images renamed\")\n",
    "    \n",
    "def resize_images(folder):\n",
    "    files=os.listdir(folder)\n",
    "    for f in files:\n",
    "            im = Image.open(folder+\"/\"+f).convert('RGB')\n",
    "            im=im.resize((350,350),  Image.ANTIALIAS)\n",
    "            im.save(folder+\"/resized/\"+f, dpi=(350,350) )\n",
    "    print(\"Images resized\")\n",
    "\n",
    "def get_images(folder,data):\n",
    "    images=[]\n",
    "    for index, row in data.iterrows():\n",
    "        im = io.imread(folder+\"/\"+str(row['photoId'])+\".jpg\")\n",
    "        images.append(preprocess_img(im))\n",
    "    return numpy.array(images)\n",
    "def preprocess_img(img):\n",
    "    # Histogram normalization in v channel\n",
    "    hsv = color.rgb2hsv(img)\n",
    "    img = color.hsv2rgb(hsv)\n",
    "    # roll color axis to axis 0\n",
    "    img = numpy.rollaxis(img, -1)\n",
    "\n",
    "    return img"
   ]
  },
  {
   "cell_type": "code",
   "execution_count": 127,
   "metadata": {},
   "outputs": [],
   "source": [
    "current_folder = os.getcwd()\n",
    "workspace = current_folder +\"/Images\"\n",
    "# rename_images(workspace)\n",
    "# resize_images(workspace)"
   ]
  },
  {
   "cell_type": "code",
   "execution_count": 272,
   "metadata": {},
   "outputs": [
    {
     "data": {
      "text/plain": [
       "(905, 2)"
      ]
     },
     "execution_count": 272,
     "metadata": {},
     "output_type": "execute_result"
    }
   ],
   "source": [
    "missing_refs = get_broken_refs(workspace+\"/resized\", picture_tags)\n",
    "picture_tags = picture_tags[picture_tags['photoId'].isin(missing_refs) == False]\n",
    "gphotoId.shape"
   ]
  },
  {
   "cell_type": "code",
   "execution_count": 273,
   "metadata": {},
   "outputs": [],
   "source": [
    "nltk.edit_distance(\"home deco\", \"home decor\")\n",
    "images = get_images(current_folder +\"/Images/resized\",picture_tags)\n",
    "\n",
    "# images = get_images(current_folder +\"/Images/resized\",gphotoId)\n",
    "# gphotoId['picture']=images\n",
    "# gphotoId.shape\n"
   ]
  },
  {
   "cell_type": "code",
   "execution_count": null,
   "metadata": {},
   "outputs": [],
   "source": [
    "\n"
   ]
  },
  {
   "cell_type": "code",
   "execution_count": 265,
   "metadata": {
    "scrolled": true
   },
   "outputs": [],
   "source": [
    "# import numpy as np\n",
    "# tags = gphotoId['tagName'].apply(lambda x : x.split(','))\n",
    "# alltagsList = []\n",
    "# for i in tags:\n",
    "#     for _ in i:\n",
    "#         alltagsList.append(_)\n",
    "        \n",
    "# from collections import Counter\n",
    "\n",
    "# tagsCounter = Counter(alltagsList)\n",
    "# tagsCounter = dict(tagsCounter)\n",
    "# count = 0\n",
    "# for key,value in tagsCounter.items():\n",
    "#     tagsCounter[key] = count\n",
    "#     count += 1\n",
    "\n",
    "# listtags = {}\n",
    "\n",
    "\n",
    "# for i in tags:\n",
    "#     for ch in i:\n",
    "#         listtags[ch]= tagsCounter[ch]\n",
    "# #     listIdx += 1\n",
    "# pprint.pprint(listtags)"
   ]
  },
  {
   "cell_type": "code",
   "execution_count": 274,
   "metadata": {},
   "outputs": [
    {
     "data": {
      "text/html": [
       "<div>\n",
       "<style>\n",
       "    .dataframe thead tr:only-child th {\n",
       "        text-align: right;\n",
       "    }\n",
       "\n",
       "    .dataframe thead th {\n",
       "        text-align: left;\n",
       "    }\n",
       "\n",
       "    .dataframe tbody tr th {\n",
       "        vertical-align: top;\n",
       "    }\n",
       "</style>\n",
       "<table border=\"1\" class=\"dataframe\">\n",
       "  <thead>\n",
       "    <tr style=\"text-align: right;\">\n",
       "      <th></th>\n",
       "      <th>tagId</th>\n",
       "      <th>photoId</th>\n",
       "      <th>tagName</th>\n",
       "    </tr>\n",
       "  </thead>\n",
       "  <tbody>\n",
       "    <tr>\n",
       "      <th>0</th>\n",
       "      <td>166</td>\n",
       "      <td>169</td>\n",
       "      <td>bag</td>\n",
       "    </tr>\n",
       "    <tr>\n",
       "      <th>1</th>\n",
       "      <td>167</td>\n",
       "      <td>169</td>\n",
       "      <td>bucket</td>\n",
       "    </tr>\n",
       "    <tr>\n",
       "      <th>2</th>\n",
       "      <td>308</td>\n",
       "      <td>1059</td>\n",
       "      <td>pen</td>\n",
       "    </tr>\n",
       "    <tr>\n",
       "      <th>3</th>\n",
       "      <td>309</td>\n",
       "      <td>1068</td>\n",
       "      <td>home decor</td>\n",
       "    </tr>\n",
       "    <tr>\n",
       "      <th>4</th>\n",
       "      <td>310</td>\n",
       "      <td>1068</td>\n",
       "      <td>inspir</td>\n",
       "    </tr>\n",
       "  </tbody>\n",
       "</table>\n",
       "</div>"
      ],
      "text/plain": [
       "   tagId  photoId     tagName\n",
       "0    166      169         bag\n",
       "1    167      169      bucket\n",
       "2    308     1059         pen\n",
       "3    309     1068  home decor\n",
       "4    310     1068      inspir"
      ]
     },
     "execution_count": 274,
     "metadata": {},
     "output_type": "execute_result"
    }
   ],
   "source": [
    "picture_tags.head()"
   ]
  },
  {
   "cell_type": "code",
   "execution_count": 275,
   "metadata": {},
   "outputs": [],
   "source": [
    "X_train, X_test, y_train, y_test = train_test_split(images,picture_tags['tagId'], test_size=0.2)\n"
   ]
  },
  {
   "cell_type": "code",
   "execution_count": 276,
   "metadata": {},
   "outputs": [],
   "source": [
    "import numpy\n",
    "from keras.datasets import cifar10\n",
    "from keras.models import Sequential\n",
    "from keras.layers import Dense\n",
    "from keras.layers import Dropout\n",
    "from keras.layers import Flatten\n",
    "from keras.constraints import maxnorm\n",
    "from keras.optimizers import SGD\n",
    "from keras.layers.convolutional import Conv2D\n",
    "from keras.layers.convolutional import MaxPooling2D\n",
    "from keras.utils import np_utils\n",
    "from keras import backend as K\n",
    "K.set_image_dim_ordering('th')"
   ]
  },
  {
   "cell_type": "code",
   "execution_count": 277,
   "metadata": {},
   "outputs": [],
   "source": [
    "X_train\n",
    "X_train = X_train.astype('float32')\n",
    "X_test = X_test.astype('float32')\n",
    "# X_train = X_train / 255.0\n",
    "# X_test = X_test / 255.0"
   ]
  },
  {
   "cell_type": "code",
   "execution_count": 283,
   "metadata": {},
   "outputs": [],
   "source": [
    "y_train = y_train/7278"
   ]
  },
  {
   "cell_type": "code",
   "execution_count": 279,
   "metadata": {},
   "outputs": [],
   "source": [
    "def img_model():\n",
    "    model = Sequential()\n",
    "\n",
    "    model.add(Conv2D(10, (3, 3), padding='same',\n",
    "         input_shape=(3, 350, 350),\n",
    "         activation='relu'))\n",
    "    model.add(Conv2D(10, (3, 3), activation='relu'))\n",
    "    model.add(MaxPooling2D(pool_size=(2, 2)))\n",
    "    model.add(Dropout(0.2))\n",
    "\n",
    "    model.add(Conv2D(20, (3, 3), padding='same',\n",
    "         activation='relu'))\n",
    "    model.add(Conv2D(20, (3, 3), activation='relu'))\n",
    "    model.add(MaxPooling2D(pool_size=(2, 2)))\n",
    "    model.add(Dropout(0.2))\n",
    "\n",
    "    model.add(Conv2D(40, (3, 3), padding='same',\n",
    "         activation='relu'))\n",
    "    model.add(Conv2D(40, (3, 3), activation='relu'))\n",
    "    model.add(MaxPooling2D(pool_size=(2, 2)))\n",
    "    model.add(Dropout(0.2))\n",
    "\n",
    "    model.add(Flatten())\n",
    "    model.add(Dense(80, activation='relu'))\n",
    "    model.add(Dropout(0.5))\n",
    "    model.add(Dense(1, activation='softmax'))\n",
    "    return model\n"
   ]
  },
  {
   "cell_type": "code",
   "execution_count": 280,
   "metadata": {
    "collapsed": true
   },
   "outputs": [],
   "source": [
    "lr = 0.5\n",
    "sgd = SGD(lr=lr, decay=1e-6, momentum=0.9, nesterov=True)\n",
    "model = img_model()\n",
    "model.compile(loss='sparse_categorical_crossentropy',\n",
    "              optimizer=sgd,\n",
    "              metrics=['accuracy'])"
   ]
  },
  {
   "cell_type": "code",
   "execution_count": null,
   "metadata": {},
   "outputs": [
    {
     "name": "stdout",
     "output_type": "stream",
     "text": [
      "Train on 1401 samples, validate on 351 samples\n",
      "Epoch 1/30\n",
      "  96/1401 [=>............................] - ETA: 520s - loss: 0.0000e+00 - acc: 0.0000e+00"
     ]
    }
   ],
   "source": [
    "from keras.callbacks import LearningRateScheduler, ModelCheckpoint\n",
    "\n",
    "def lr_schedule(epoch):\n",
    "    return lr * (0.1 ** int(epoch / 10))\n",
    "batch_size = 32\n",
    "epochs = 10\n",
    "\n",
    "model.fit(X_train, y_train,\n",
    "          batch_size=batch_size,\n",
    "          epochs=epochs,\n",
    "          validation_split=0.2,\n",
    "          callbacks=[LearningRateScheduler(lr_schedule)]\n",
    "          )"
   ]
  },
  {
   "cell_type": "markdown",
   "metadata": {},
   "source": [
    "### "
   ]
  },
  {
   "cell_type": "code",
   "execution_count": null,
   "metadata": {
    "collapsed": true
   },
   "outputs": [],
   "source": []
  }
 ],
 "metadata": {
  "kernelspec": {
   "display_name": "Python [conda env:hackathon]",
   "language": "python",
   "name": "conda-env-hackathon-py"
  },
  "language_info": {
   "codemirror_mode": {
    "name": "ipython",
    "version": 3
   },
   "file_extension": ".py",
   "mimetype": "text/x-python",
   "name": "python",
   "nbconvert_exporter": "python",
   "pygments_lexer": "ipython3",
   "version": "3.6.2"
  }
 },
 "nbformat": 4,
 "nbformat_minor": 1
}
