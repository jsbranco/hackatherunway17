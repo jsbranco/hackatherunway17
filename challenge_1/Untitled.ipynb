{
 "cells": [
  {
   "cell_type": "code",
   "execution_count": 1,
   "metadata": {},
   "outputs": [
    {
     "name": "stderr",
     "output_type": "stream",
     "text": [
      "Using TensorFlow backend.\n"
     ]
    }
   ],
   "source": [
    "from keras.datasets import cifar10\n"
   ]
  },
  {
   "cell_type": "code",
   "execution_count": 2,
   "metadata": {},
   "outputs": [
    {
     "name": "stdout",
     "output_type": "stream",
     "text": [
      "Downloading data from http://www.cs.toronto.edu/~kriz/cifar-10-python.tar.gz\n",
      "170426368/170498071 [============================>.] - ETA: 0s"
     ]
    }
   ],
   "source": [
    "(X_train, y_train), (X_test, y_test) = cifar10.load_data()"
   ]
  },
  {
   "cell_type": "code",
   "execution_count": 7,
   "metadata": {},
   "outputs": [
    {
     "data": {
      "text/plain": [
       "array([[154, 177, 187],\n",
       "       [126, 137, 136],\n",
       "       [105, 104,  95],\n",
       "       [102, 101,  99],\n",
       "       [125, 131, 139],\n",
       "       [155, 166, 180],\n",
       "       [172, 190, 210],\n",
       "       [180, 199, 214],\n",
       "       [142, 156, 156],\n",
       "       [111, 120, 110],\n",
       "       [106, 107,  98],\n",
       "       [109, 104, 102],\n",
       "       [123, 121, 117],\n",
       "       [127, 129, 127],\n",
       "       [181, 188, 189],\n",
       "       [217, 226, 229],\n",
       "       [209, 211, 211],\n",
       "       [166, 167, 162],\n",
       "       [164, 165, 156],\n",
       "       [158, 160, 148],\n",
       "       [116, 117, 103],\n",
       "       [102, 101,  83],\n",
       "       [ 95,  95,  76],\n",
       "       [ 90,  89,  79],\n",
       "       [ 72,  70,  69],\n",
       "       [ 60,  60,  61],\n",
       "       [ 56,  57,  54],\n",
       "       [ 77,  78,  72],\n",
       "       [ 94,  96,  84],\n",
       "       [ 91,  95,  71],\n",
       "       [ 87,  90,  71],\n",
       "       [ 79,  81,  70]], dtype=uint8)"
      ]
     },
     "execution_count": 7,
     "metadata": {},
     "output_type": "execute_result"
    }
   ],
   "source": [
    "X_trai"
   ]
  },
  {
   "cell_type": "code",
   "execution_count": null,
   "metadata": {
    "collapsed": true
   },
   "outputs": [],
   "source": []
  }
 ],
 "metadata": {
  "kernelspec": {
   "display_name": "Python [conda env:hackathon]",
   "language": "python",
   "name": "conda-env-hackathon-py"
  },
  "language_info": {
   "codemirror_mode": {
    "name": "ipython",
    "version": 3
   },
   "file_extension": ".py",
   "mimetype": "text/x-python",
   "name": "python",
   "nbconvert_exporter": "python",
   "pygments_lexer": "ipython3",
   "version": "3.6.2"
  }
 },
 "nbformat": 4,
 "nbformat_minor": 2
}
